{
 "cells": [
  {
   "cell_type": "code",
   "execution_count": 1,
   "metadata": {},
   "outputs": [],
   "source": [
    "#!/usr/bin/env python3\n",
    "# -*- coding: utf-8 -*-"
   ]
  },
  {
   "cell_type": "code",
   "execution_count": 2,
   "metadata": {},
   "outputs": [],
   "source": [
    "import planarfibers\n",
    "import pandas as pd\n",
    "pd.set_option('display.max_columns', 100)\n",
    "pd.set_option('display.width', 1000)"
   ]
  },
  {
   "cell_type": "code",
   "execution_count": 3,
   "metadata": {},
   "outputs": [],
   "source": [
    "df = planarfibers.discretization.get_points_on_slices(\n",
    "    radii=[\"0\", \"1/2\", \"9/10\"],\n",
    "    la0s=[\"1/2\", \"4/6\", \"5/6\", \"1\"],\n",
    "    numeric=False,\n",
    ")"
   ]
  },
  {
   "cell_type": "code",
   "execution_count": 4,
   "metadata": {},
   "outputs": [
    {
     "name": "stdout",
     "output_type": "stream",
     "text": [
      "                    la0 radius_factor   beta      r                        d_0            d_7\n",
      "v00-upper-0         1/2          9/10   pi/2   9/80                     69/560              0\n",
      "v00-upper-1         2/3          9/10   pi/2   1/10                     61/630              0\n",
      "v00-upper-2         5/6          9/10   pi/2   1/16                    89/5040              0\n",
      "v00-mid-0           1/2             0      0      0                      3/280              0\n",
      "v00-mid-1           2/3             0      0      0                     -1/315              0\n",
      "v00-mid-2           5/6             0      0      0                  -113/2520              0\n",
      "v00-lower-0         1/2          9/10  -pi/2   9/80                    -57/560              0\n",
      "v00-lower-1         2/3          9/10  -pi/2   1/10                    -13/126              0\n",
      "v00-lower-2         5/6          9/10  -pi/2   1/16                  -541/5040              0\n",
      "ud                    1             0      0      0                      -4/35              0\n",
      "vshc-central-la0-0  1/2             0      0      0                      3/280              0\n",
      "vshc-m90-0-la0-0    1/2           1/2  -pi/2   1/16                    -29/560              0\n",
      "vshc-m90-1-la0-0    1/2          9/10  -pi/2   9/80                    -57/560              0\n",
      "vshc-m45-0-la0-0    1/2           1/2  -pi/4   1/16         3/280 - sqrt(2)/32     sqrt(2)/32\n",
      "vshc-m45-1-la0-0    1/2          9/10  -pi/4   9/80      3/280 - 9*sqrt(2)/160  9*sqrt(2)/160\n",
      "vshc-0-0-la0-0      1/2           1/2      0   1/16                      3/280           1/16\n",
      "vshc-0-1-la0-0      1/2          9/10      0   9/80                      3/280           9/80\n",
      "vshc-45-0-la0-0     1/2           1/2   pi/4   1/16         3/280 + sqrt(2)/32     sqrt(2)/32\n",
      "vshc-45-1-la0-0     1/2          9/10   pi/4   9/80      3/280 + 9*sqrt(2)/160  9*sqrt(2)/160\n",
      "vshc-90-0-la0-0     1/2           1/2   pi/2   1/16                     41/560              0\n",
      "vshc-90-1-la0-0     1/2          9/10   pi/2   9/80                     69/560              0\n",
      "vshc-central-la0-1  2/3             0      0      0                     -1/315              0\n",
      "vshc-m90-0-la0-1    2/3           1/2  -pi/2   1/18                    -37/630              0\n",
      "vshc-m90-1-la0-1    2/3          9/10  -pi/2   1/10                    -13/126              0\n",
      "vshc-m45-0-la0-1    2/3           1/2  -pi/4   1/18        -sqrt(2)/36 - 1/315     sqrt(2)/36\n",
      "vshc-m45-1-la0-1    2/3          9/10  -pi/4   1/10        -sqrt(2)/20 - 1/315     sqrt(2)/20\n",
      "vshc-0-0-la0-1      2/3           1/2      0   1/18                     -1/315           1/18\n",
      "vshc-0-1-la0-1      2/3          9/10      0   1/10                     -1/315           1/10\n",
      "vshc-45-0-la0-1     2/3           1/2   pi/4   1/18        -1/315 + sqrt(2)/36     sqrt(2)/36\n",
      "vshc-45-1-la0-1     2/3          9/10   pi/4   1/10        -1/315 + sqrt(2)/20     sqrt(2)/20\n",
      "vshc-90-0-la0-1     2/3           1/2   pi/2   1/18                     11/210              0\n",
      "vshc-90-1-la0-1     2/3          9/10   pi/2   1/10                     61/630              0\n",
      "vshc-central-la0-2  5/6             0      0      0                  -113/2520              0\n",
      "vshc-m90-0-la0-2    5/6           1/2  -pi/2  5/144                  -401/5040              0\n",
      "vshc-m90-1-la0-2    5/6          9/10  -pi/2   1/16                  -541/5040              0\n",
      "vshc-m45-0-la0-2    5/6           1/2  -pi/4  5/144  -113/2520 - 5*sqrt(2)/288  5*sqrt(2)/288\n",
      "vshc-m45-1-la0-2    5/6          9/10  -pi/4   1/16     -113/2520 - sqrt(2)/32     sqrt(2)/32\n",
      "vshc-0-0-la0-2      5/6           1/2      0  5/144                  -113/2520          5/144\n",
      "vshc-0-1-la0-2      5/6          9/10      0   1/16                  -113/2520           1/16\n",
      "vshc-45-0-la0-2     5/6           1/2   pi/4  5/144  -113/2520 + 5*sqrt(2)/288  5*sqrt(2)/288\n",
      "vshc-45-1-la0-2     5/6          9/10   pi/4   1/16     -113/2520 + sqrt(2)/32     sqrt(2)/32\n",
      "vshc-90-0-la0-2     5/6           1/2   pi/2  5/144                   -17/1680              0\n",
      "vshc-90-1-la0-2     5/6          9/10   pi/2   1/16                    89/5040              0\n"
     ]
    }
   ],
   "source": [
    "print(df)"
   ]
  }
 ],
 "metadata": {
  "kernelspec": {
   "display_name": "Python 3",
   "language": "python",
   "name": "python3"
  },
  "language_info": {
   "codemirror_mode": {
    "name": "ipython",
    "version": 3
   },
   "file_extension": ".py",
   "mimetype": "text/x-python",
   "name": "python",
   "nbconvert_exporter": "python",
   "pygments_lexer": "ipython3",
   "version": "3.9.7"
  }
 },
 "nbformat": 4,
 "nbformat_minor": 2
}
